{
 "cells": [
  {
   "cell_type": "markdown",
   "metadata": {
    "colab_type": "text",
    "id": "view-in-github"
   },
   "source": [
    "<a href=\"https://colab.research.google.com/github/The-DarK-os/MachineLearning-Algorithms/blob/main/SVMs_vs_Linearregression.ipynb\" target=\"_parent\"><img src=\"https://colab.research.google.com/assets/colab-badge.svg\" alt=\"Open In Colab\"/></a>"
   ]
  },
  {
   "cell_type": "code",
   "execution_count": 37,
   "metadata": {
    "id": "RajTKFDW_QhB"
   },
   "outputs": [],
   "source": [
    "import numpy as np\n",
    "import matplotlib.pyplot as plt \n",
    "from sklearn.datasets import load_wine\n",
    "import pandas as pd\n",
    "from matplotlib.colors import ListedColormap\n",
    "%matplotlib inline "
   ]
  },
  {
   "cell_type": "code",
   "execution_count": 23,
   "metadata": {
    "id": "FUyrpsd6_xmM"
   },
   "outputs": [],
   "source": [
    "wine = load_wine()\n",
    "wine_df = pd.DataFrame(wine.data,columns=wine.feature_names)"
   ]
  },
  {
   "cell_type": "code",
   "execution_count": 24,
   "metadata": {
    "id": "a-muJCGP_0nL"
   },
   "outputs": [],
   "source": [
    "wine_df['Class'] = wine.target"
   ]
  },
  {
   "cell_type": "code",
   "execution_count": 25,
   "metadata": {
    "colab": {
     "base_uri": "https://localhost:8080/",
     "height": 204
    },
    "id": "nlDIqUn8A5Rk",
    "outputId": "093ea365-0717-4f9d-bcbf-7266a7075c63"
   },
   "outputs": [
    {
     "data": {
      "text/html": [
       "<div>\n",
       "<style scoped>\n",
       "    .dataframe tbody tr th:only-of-type {\n",
       "        vertical-align: middle;\n",
       "    }\n",
       "\n",
       "    .dataframe tbody tr th {\n",
       "        vertical-align: top;\n",
       "    }\n",
       "\n",
       "    .dataframe thead th {\n",
       "        text-align: right;\n",
       "    }\n",
       "</style>\n",
       "<table border=\"1\" class=\"dataframe\">\n",
       "  <thead>\n",
       "    <tr style=\"text-align: right;\">\n",
       "      <th></th>\n",
       "      <th>alcohol</th>\n",
       "      <th>malic_acid</th>\n",
       "      <th>ash</th>\n",
       "      <th>alcalinity_of_ash</th>\n",
       "      <th>magnesium</th>\n",
       "      <th>total_phenols</th>\n",
       "      <th>flavanoids</th>\n",
       "      <th>nonflavanoid_phenols</th>\n",
       "      <th>proanthocyanins</th>\n",
       "      <th>color_intensity</th>\n",
       "      <th>hue</th>\n",
       "      <th>od280/od315_of_diluted_wines</th>\n",
       "      <th>proline</th>\n",
       "      <th>Class</th>\n",
       "    </tr>\n",
       "  </thead>\n",
       "  <tbody>\n",
       "    <tr>\n",
       "      <th>0</th>\n",
       "      <td>14.23</td>\n",
       "      <td>1.71</td>\n",
       "      <td>2.43</td>\n",
       "      <td>15.6</td>\n",
       "      <td>127.0</td>\n",
       "      <td>2.80</td>\n",
       "      <td>3.06</td>\n",
       "      <td>0.28</td>\n",
       "      <td>2.29</td>\n",
       "      <td>5.64</td>\n",
       "      <td>1.04</td>\n",
       "      <td>3.92</td>\n",
       "      <td>1065.0</td>\n",
       "      <td>0</td>\n",
       "    </tr>\n",
       "    <tr>\n",
       "      <th>1</th>\n",
       "      <td>13.20</td>\n",
       "      <td>1.78</td>\n",
       "      <td>2.14</td>\n",
       "      <td>11.2</td>\n",
       "      <td>100.0</td>\n",
       "      <td>2.65</td>\n",
       "      <td>2.76</td>\n",
       "      <td>0.26</td>\n",
       "      <td>1.28</td>\n",
       "      <td>4.38</td>\n",
       "      <td>1.05</td>\n",
       "      <td>3.40</td>\n",
       "      <td>1050.0</td>\n",
       "      <td>0</td>\n",
       "    </tr>\n",
       "    <tr>\n",
       "      <th>2</th>\n",
       "      <td>13.16</td>\n",
       "      <td>2.36</td>\n",
       "      <td>2.67</td>\n",
       "      <td>18.6</td>\n",
       "      <td>101.0</td>\n",
       "      <td>2.80</td>\n",
       "      <td>3.24</td>\n",
       "      <td>0.30</td>\n",
       "      <td>2.81</td>\n",
       "      <td>5.68</td>\n",
       "      <td>1.03</td>\n",
       "      <td>3.17</td>\n",
       "      <td>1185.0</td>\n",
       "      <td>0</td>\n",
       "    </tr>\n",
       "    <tr>\n",
       "      <th>3</th>\n",
       "      <td>14.37</td>\n",
       "      <td>1.95</td>\n",
       "      <td>2.50</td>\n",
       "      <td>16.8</td>\n",
       "      <td>113.0</td>\n",
       "      <td>3.85</td>\n",
       "      <td>3.49</td>\n",
       "      <td>0.24</td>\n",
       "      <td>2.18</td>\n",
       "      <td>7.80</td>\n",
       "      <td>0.86</td>\n",
       "      <td>3.45</td>\n",
       "      <td>1480.0</td>\n",
       "      <td>0</td>\n",
       "    </tr>\n",
       "    <tr>\n",
       "      <th>4</th>\n",
       "      <td>13.24</td>\n",
       "      <td>2.59</td>\n",
       "      <td>2.87</td>\n",
       "      <td>21.0</td>\n",
       "      <td>118.0</td>\n",
       "      <td>2.80</td>\n",
       "      <td>2.69</td>\n",
       "      <td>0.39</td>\n",
       "      <td>1.82</td>\n",
       "      <td>4.32</td>\n",
       "      <td>1.04</td>\n",
       "      <td>2.93</td>\n",
       "      <td>735.0</td>\n",
       "      <td>0</td>\n",
       "    </tr>\n",
       "  </tbody>\n",
       "</table>\n",
       "</div>"
      ],
      "text/plain": [
       "   alcohol  malic_acid   ash  ...  od280/od315_of_diluted_wines  proline  Class\n",
       "0    14.23        1.71  2.43  ...                          3.92   1065.0      0\n",
       "1    13.20        1.78  2.14  ...                          3.40   1050.0      0\n",
       "2    13.16        2.36  2.67  ...                          3.17   1185.0      0\n",
       "3    14.37        1.95  2.50  ...                          3.45   1480.0      0\n",
       "4    13.24        2.59  2.87  ...                          2.93    735.0      0\n",
       "\n",
       "[5 rows x 14 columns]"
      ]
     },
     "execution_count": 25,
     "metadata": {},
     "output_type": "execute_result"
    }
   ],
   "source": [
    "# wine_df = wine_df.sample(frac = 1)\n",
    "wine_df.head()"
   ]
  },
  {
   "cell_type": "code",
   "execution_count": 26,
   "metadata": {
    "colab": {
     "base_uri": "https://localhost:8080/"
    },
    "id": "5MsKg09GBUC8",
    "outputId": "fcc2a934-71e0-42cf-d6d3-369087b8e944"
   },
   "outputs": [
    {
     "name": "stdout",
     "output_type": "stream",
     "text": [
      "(178, 2)\n",
      "(178,)\n"
     ]
    }
   ],
   "source": [
    "X = wine_df[['alcohol','hue']].values\n",
    "y = wine_df['Class'].values\n",
    "print(X.shape)\n",
    "print(y.shape)"
   ]
  },
  {
   "cell_type": "code",
   "execution_count": 36,
   "metadata": {
    "colab": {
     "base_uri": "https://localhost:8080/",
     "height": 296
    },
    "id": "Z6CvwwCiCSlr",
    "outputId": "bcc92bfb-be00-466f-ea0e-f28124f2c7fe"
   },
   "outputs": [
    {
     "data": {
      "text/plain": [
       "Text(0, 0.5, 'hue')"
      ]
     },
     "execution_count": 36,
     "metadata": {},
     "output_type": "execute_result"
    },
    {
     "data": {
      "image/png": "[encoded data removed]",
      "text/plain": [
       "<Figure size 432x288 with 1 Axes>"
      ]
     },
     "metadata": {
      "needs_background": "light"
     },
     "output_type": "display_data"
    }
   ],
   "source": [
    "plt.scatter(X[:58,0],X[:58,1],color=\"red\",marker=\"o\",label=\"class_0\")\n",
    "plt.scatter(X[59:129,0],X[59:129,1],color=\"green\",marker=\"*\",label=\"class_1\")\n",
    "plt.scatter(X[130:,0],X[130:,1],color=\"orange\",marker=\"^\",label=\"class_2\")\n",
    "plt.legend(loc=\"best\")\n",
    "plt.xlabel(\"alcohol\")\n",
    "plt.ylabel(\"hue\")"
   ]
  },
  {
   "cell_type": "code",
   "execution_count": 38,
   "metadata": {
    "id": "rFD3DOV7CZQr"
   },
   "outputs": [],
   "source": [
    "def plot_decision_region(X,y,classifier,resolution=0.02):\n",
    "  markers = (\"s\",\"x\",\"o\",\"^\",\"*\")\n",
    "  colors=(\"red\",\"blue\",\"green\",\"orange\",\"cyan\")\n",
    "  cmap = ListedColormap(colors[:len(np.unique(y))])\n",
    "  x1_min,x1_max = X[:,0].min()-1 ,X[:,0].max()+1\n",
    "  x2_min,x2_max = X[:,1].min()-1 , X[:,1].max()+1\n",
    "  xx1,xx2 = np.meshgrid(np.arange(x1_min,x1_max,resolution),np.arange(x2_min,x2_max,resolution))\n",
    "  Z = classifier.predict(np.array([xx1.ravel(),xx2.ravel()]).T)\n",
    "  Z = Z.reshape(xx1.shape)\n",
    "  plt.contourf(xx1,xx2,Z,alpha=0.3,cmap=cmap)\n",
    "  plt.xlim(xx1.min(),xx1.max())\n",
    "  plt.ylim(xx2.min(),xx2.max())\n",
    "  for idx,cl in enumerate(np.unique(y)):\n",
    "    plt.scatter(x=X[y == cl, 0], y=X[y == cl, 1], alpha=0.8,\n",
    "                    c=colors[idx], marker=markers[idx], label=cl, edgecolor=\"black\")\n",
    "  plt.legend(loc=\"best\")"
   ]
  },
  {
   "cell_type": "code",
   "execution_count": 40,
   "metadata": {
    "colab": {
     "base_uri": "https://localhost:8080/"
    },
    "id": "nHvQmSZICcSb",
    "outputId": "9e890689-f31f-4e15-a96f-b57b7bc2b258"
   },
   "outputs": [
    {
     "name": "stdout",
     "output_type": "stream",
     "text": [
      "(124, 2)\n",
      "(124,)\n"
     ]
    }
   ],
   "source": [
    "from sklearn.model_selection import train_test_split\n",
    "X_train,X_test,y_train,y_test = train_test_split(X,y,test_size=0.3,random_state=1)\n",
    "print(X_train.shape)\n",
    "print(y_train.shape)"
   ]
  },
  {
   "cell_type": "code",
   "execution_count": 42,
   "metadata": {
    "id": "wG2lLDGDFAfz"
   },
   "outputs": [],
   "source": [
    "from sklearn.preprocessing import StandardScaler\n",
    "std = StandardScaler()\n",
    "std.fit(X_train)\n",
    "std.fit(X_test)\n",
    "X_train_std = std.transform(X_train)\n",
    "X_test_std = std.transform(X_test)"
   ]
  },
  {
   "cell_type": "markdown",
   "metadata": {
    "id": "-E11TQJEN9Yq"
   },
   "source": [
    "# Logistic Regression"
   ]
  },
  {
   "cell_type": "code",
   "execution_count": 45,
   "metadata": {
    "colab": {
     "base_uri": "https://localhost:8080/",
     "height": 312
    },
    "id": "V89zj7YZKj1x",
    "outputId": "a4021d92-1bd5-4435-a8d6-afbe07643974"
   },
   "outputs": [
    {
     "data": {
      "text/plain": [
       "Text(0.5, 1.0, 'Scaled data')"
      ]
     },
     "execution_count": 45,
     "metadata": {},
     "output_type": "execute_result"
    },
    {
     "data": {
      "image/png": "[encoded data removed]",
      "text/plain": [
       "<Figure size 432x288 with 1 Axes>"
      ]
     },
     "metadata": {
      "needs_background": "light"
     },
     "output_type": "display_data"
    }
   ],
   "source": [
    "from sklearn.linear_model import LogisticRegression\n",
    "lr = LogisticRegression(C=1.0,random_state=1,max_iter=100)\n",
    "lr.fit(X_train_std,y_train)\n",
    "X_combined_std = np.vstack((X_train_std,X_test_std))\n",
    "y_combined = np.hstack((y_train,y_test))\n",
    "plot_decision_region(X_combined_std,y_combined,classifier=lr) \n",
    "plt.xlabel(\"alcohol\")\n",
    "plt.ylabel(\"hue\")\n",
    "plt.title(\"Scaled data\")"
   ]
  },
  {
   "cell_type": "code",
   "execution_count": 44,
   "metadata": {
    "colab": {
     "base_uri": "https://localhost:8080/",
     "height": 312
    },
    "id": "uRWKmNM5MqBY",
    "outputId": "9b0b23d5-a91f-44c3-bbc9-1cdfaffd2d3e"
   },
   "outputs": [
    {
     "data": {
      "text/plain": [
       "Text(0.5, 1.0, 'Original data')"
      ]
     },
     "execution_count": 44,
     "metadata": {},
     "output_type": "execute_result"
    },
    {
     "data": {
      "image/png": "[encoded data removed]",
      "text/plain": [
       "<Figure size 432x288 with 1 Axes>"
      ]
     },
     "metadata": {
      "needs_background": "light"
     },
     "output_type": "display_data"
    }
   ],
   "source": [
    "X_combined = np.vstack((X_train,X_test))\n",
    "y_combined = np.hstack((y_train,y_test))\n",
    "lr_1 = LogisticRegression(C=1.0,random_state=1,max_iter=100)\n",
    "lr_1.fit(X_train,y_train)\n",
    "plot_decision_region(X_combined,y_combined,classifier=lr_1)\n",
    "plt.xlabel(\"alcohol\")\n",
    "plt.ylabel(\"hue\")\n",
    "plt.title(\"Original data\")"
   ]
  },
  {
   "cell_type": "markdown",
   "metadata": {
    "id": "3p44UjJhONS6"
   },
   "source": [
    "# Support Vector Machines"
   ]
  },
  {
   "cell_type": "code",
   "execution_count": 55,
   "metadata": {
    "colab": {
     "base_uri": "https://localhost:8080/",
     "height": 265
    },
    "id": "Ne3bJs_9OQ6w",
    "outputId": "c5d001bc-52a8-499c-f72b-b33af49f2470"
   },
   "outputs": [
    {
     "data": {
      "image/png": "[encoded data removed]",
      "text/plain": [
       "<Figure size 432x288 with 1 Axes>"
      ]
     },
     "metadata": {
      "needs_background": "light"
     },
     "output_type": "display_data"
    }
   ],
   "source": [
    "from sklearn.svm import SVC\n",
    "svm_linear = SVC(C=50.0,kernel=\"linear\",gamma=100.0)\n",
    "svm_linear.fit(X_train_std,y_train)\n",
    "plot_decision_region(X_combined_std,y_combined,classifier=svm_linear)"
   ]
  },
  {
   "cell_type": "code",
   "execution_count": 62,
   "metadata": {
    "colab": {
     "base_uri": "https://localhost:8080/",
     "height": 265
    },
    "id": "aXn2vTJ6O-h5",
    "outputId": "9fc586f9-f776-42a8-dcb7-46e0ccc48908"
   },
   "outputs": [
    {
     "data": {
      "image/png": "[encoded data removed]",
      "text/plain": [
       "<Figure size 432x288 with 1 Axes>"
      ]
     },
     "metadata": {
      "needs_background": "light"
     },
     "output_type": "display_data"
    }
   ],
   "source": [
    "svm_nonlinear = SVC(C=1.0,kernel=\"rbf\",gamma=1.0)\n",
    "svm_nonlinear.fit(X_train_std,y_train)\n",
    "plot_decision_region(X_combined_std,y_combined,classifier=svm_nonlinear)"
   ]
  },
  {
   "cell_type": "markdown",
   "metadata": {
    "id": "AEsM7HDVR-MS"
   },
   "source": [
    "# Evaluation"
   ]
  },
  {
   "cell_type": "code",
   "execution_count": 67,
   "metadata": {
    "colab": {
     "base_uri": "https://localhost:8080/"
    },
    "id": "k5ZO6E94SBKI",
    "outputId": "4f5a2dad-e592-4930-eadf-9e0e5785621c"
   },
   "outputs": [
    {
     "name": "stdout",
     "output_type": "stream",
     "text": [
      "              precision    recall  f1-score   support\n",
      "\n",
      "           0       0.96      0.96      0.96        23\n",
      "           1       0.95      0.95      0.95        19\n",
      "           2       0.83      0.83      0.83        12\n",
      "\n",
      "    accuracy                           0.93        54\n",
      "   macro avg       0.91      0.91      0.91        54\n",
      "weighted avg       0.93      0.93      0.93        54\n",
      "\n",
      "Accuracy:  0.9259259259259259\n",
      "Missclassification:  4\n"
     ]
    }
   ],
   "source": [
    "from sklearn.metrics import classification_report,accuracy_score\n",
    "pred = lr.predict(X_test_std)\n",
    "print(classification_report(y_test,pred))\n",
    "print(\"Accuracy: \",accuracy_score(y_test,pred))\n",
    "print(\"Missclassification: \",(y_test != pred).sum())"
   ]
  },
  {
   "cell_type": "code",
   "execution_count": 72,
   "metadata": {
    "colab": {
     "base_uri": "https://localhost:8080/"
    },
    "id": "pVwpv4EqSg8h",
    "outputId": "ade42d3e-e08a-428a-e87f-b2a59317763a"
   },
   "outputs": [
    {
     "name": "stdout",
     "output_type": "stream",
     "text": [
      "              precision    recall  f1-score   support\n",
      "\n",
      "           0       0.96      0.96      0.96        23\n",
      "           1       1.00      0.95      0.97        19\n",
      "           2       0.85      0.92      0.88        12\n",
      "\n",
      "    accuracy                           0.94        54\n",
      "   macro avg       0.93      0.94      0.94        54\n",
      "weighted avg       0.95      0.94      0.95        54\n",
      "\n",
      "Accuracy:  0.9444444444444444\n",
      "Missclassifications:  3\n"
     ]
    }
   ],
   "source": [
    "pred_ = lr_1.predict(X_test)\n",
    "print(classification_report(y_test,pred_))\n",
    "print(\"Accuracy: \",accuracy_score(y_test,pred_))\n",
    "print(\"Missclassifications: \",(y_test != pred_).sum())"
   ]
  },
  {
   "cell_type": "code",
   "execution_count": 69,
   "metadata": {
    "colab": {
     "base_uri": "https://localhost:8080/"
    },
    "id": "hDP007-7TinI",
    "outputId": "8c92bb41-2b86-47f4-827c-f15df3ae8579"
   },
   "outputs": [
    {
     "name": "stdout",
     "output_type": "stream",
     "text": [
      "              precision    recall  f1-score   support\n",
      "\n",
      "           0       0.92      0.96      0.94        23\n",
      "           1       0.94      0.89      0.92        19\n",
      "           2       0.83      0.83      0.83        12\n",
      "\n",
      "    accuracy                           0.91        54\n",
      "   macro avg       0.90      0.89      0.90        54\n",
      "weighted avg       0.91      0.91      0.91        54\n",
      "\n",
      "Accuracy:  0.9074074074074074\n",
      "Misclassifications:  5\n"
     ]
    }
   ],
   "source": [
    "pred = svm_linear.predict(X_test_std)\n",
    "print(classification_report(y_test,pred))\n",
    "print(\"Accuracy: \",accuracy_score(y_test,pred))\n",
    "print(\"Misclassifications: \",(y_test != pred).sum())"
   ]
  },
  {
   "cell_type": "code",
   "execution_count": 71,
   "metadata": {
    "colab": {
     "base_uri": "https://localhost:8080/"
    },
    "id": "aM-TBX2pUHUI",
    "outputId": "9c6c7fd8-3a5a-4e8d-f271-cf953edfb439"
   },
   "outputs": [
    {
     "name": "stdout",
     "output_type": "stream",
     "text": [
      "              precision    recall  f1-score   support\n",
      "\n",
      "           0       0.96      0.96      0.96        23\n",
      "           1       1.00      0.95      0.97        19\n",
      "           2       0.85      0.92      0.88        12\n",
      "\n",
      "    accuracy                           0.94        54\n",
      "   macro avg       0.93      0.94      0.94        54\n",
      "weighted avg       0.95      0.94      0.95        54\n",
      "\n",
      "Accuracy:  0.9444444444444444\n",
      "Missclassifications:  3\n"
     ]
    }
   ],
   "source": [
    "pred_1 = svm_nonlinear.predict(X_test_std)\n",
    "print(classification_report(y_test,pred_1))\n",
    "print(\"Accuracy: \",accuracy_score(y_test,pred_1))\n",
    "print(\"Missclassifications: \",(y_test != pred_1).sum())"
   ]
  },
  {
   "cell_type": "code",
   "execution_count": null,
   "metadata": {
    "id": "mTIEfa6mUegw"
   },
   "outputs": [],
   "source": []
  }
 ],
 "metadata": {
  "colab": {
   "authorship_tag": "ABX9TyMo4O1jHYVPr1v2ZkucF/JE",
   "include_colab_link": true,
   "name": "SVMs vs Linearregression.ipynb",
   "provenance": []
  },
  "kernelspec": {
   "display_name": "Python 3",
   "language": "python",
   "name": "python3"
  },
  "language_info": {
   "codemirror_mode": {
    "name": "ipython",
    "version": 3
   },
   "file_extension": ".py",
   "mimetype": "text/x-python",
   "name": "python",
   "nbconvert_exporter": "python",
   "pygments_lexer": "ipython3",
   "version": "3.8.3"
  }
 },
 "nbformat": 4,
 "nbformat_minor": 4
}
